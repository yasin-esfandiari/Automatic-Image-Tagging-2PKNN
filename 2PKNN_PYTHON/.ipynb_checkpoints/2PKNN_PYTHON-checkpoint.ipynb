{
 "cells": [
  {
   "cell_type": "code",
   "execution_count": 1,
   "metadata": {},
   "outputs": [],
   "source": [
    "import scipy.io as reader\n",
    "from scipy.spatial.distance import cdist\n",
    "import numpy as np"
   ]
  },
  {
   "cell_type": "code",
   "execution_count": 2,
   "metadata": {},
   "outputs": [
    {
     "name": "stdout",
     "output_type": "stream",
     "text": [
      "(12500, 38)\n"
     ]
    }
   ],
   "source": [
    "#loading data\n",
    "\n",
    "train = reader.loadmat('../../../../Results/5crops/VGG16(+pca -robustS -standardS)/train_VGG16TrueFalseFalse.mat')['data']\n",
    "test = reader.loadmat('../../../../Results/5crops/VGG16(+pca -robustS -standardS)/test_VGG16TrueFalseFalse.mat')['data']\n",
    "\n",
    "trainAnnotation = reader.loadmat('../../AnotationMatrices/trainAnnotationFlickr25k.mat')['trainAnnotation']\n",
    "testAnnotation = reader.loadmat('../../AnotationMatrices/testAnnotationFlickr25k.mat')['testAnnotation']\n",
    "\n",
    "print(testAnnotation.shape)"
   ]
  },
  {
   "cell_type": "code",
   "execution_count": 3,
   "metadata": {},
   "outputs": [
    {
     "name": "stdout",
     "output_type": "stream",
     "text": [
      "(12500, 2318)\n"
     ]
    }
   ],
   "source": [
    "print(train.shape)"
   ]
  },
  {
   "cell_type": "code",
   "execution_count": 4,
   "metadata": {},
   "outputs": [],
   "source": [
    "#parameters\n",
    "\n",
    "labels=5 # ->  WTF?\n",
    "k=4\n",
    "sigma=15"
   ]
  },
  {
   "cell_type": "code",
   "execution_count": 5,
   "metadata": {},
   "outputs": [],
   "source": [
    "distMatrix_train2test = cdist(train, test)"
   ]
  },
  {
   "cell_type": "code",
   "execution_count": 6,
   "metadata": {},
   "outputs": [
    {
     "data": {
      "text/plain": [
       "(12500, 12500)"
      ]
     },
     "execution_count": 6,
     "metadata": {},
     "output_type": "execute_result"
    }
   ],
   "source": [
    "distMatrix_train2test.shape"
   ]
  },
  {
   "cell_type": "code",
   "execution_count": 7,
   "metadata": {},
   "outputs": [],
   "source": [
    "def twopassknn2(distance_vI_vJ,trainAnnotation,testAnnotation,K1,w):\n",
    "    numOfTestImages = testAnnotation.shape[0] # 12500 test img\n",
    "    numOfTrainImages = trainAnnotation.shape[0] # 12500 train img\n",
    "    \n",
    "    numOfLabels = trainAnnotation.shape[1] # 38 label\n",
    "    labelTableSize = np.zeros((numOfLabels,1)) # 38x1\n",
    "    \n",
    "    labelTableSize = np.sum(trainAnnotation, axis=0) # har label barash chanta aks darim dar train\n",
    "    \n",
    "    Score_w_I_R = np.zeros((numOfLabels,numOfTestImages)) # 38x12500\n",
    "    \n",
    "    for i in range(numOfTestImages):\n",
    "        subsetTrain = np.zeros((numOfLabels*K1,1)) # 38*4 -> 152\n",
    "        subsetCitation = np.zeros((numOfLabels*K1,1)) # 38*4 -> 152\n",
    "        \n",
    "        # 1st knn pass\n",
    "        count = 0;\n",
    "        for j in range(numOfLabels):\n",
    "            currTrainSet = np.array( np.where(trainAnnotation[:,j]==1) ) # idx axayi ke label j ra darand\n",
    "            currTrainIndxDist = np.concatenate([currTrainSet , distance_vI_vJ[currTrainSet,i]]).T # currTrainSet + dis(i, currTrainSet) -> [idx dist]\n",
    "            currTrainIndxDist = currTrainIndxDist[currTrainIndxDist[:,1].argsort()] # sort by dist\n",
    "            \n",
    "            for k in range(K1): # K: 1 -> 4\n",
    "                if( k <= labelTableSize[j] ):\n",
    "                    subsetTrain[count] = currTrainIndxDist[k][0]; #subsetTrain [1...k1    0 0 0 0  ...] -> [idx(1nn be l1) idx(2nn be l1) idx(3nn be l1) idx(4nn be l1) - idx(1nn be l2) ... idx(4nn be l38)]\n",
    "                                                                 #knn idx bara[label(1)  label(2) ...]\n",
    "                    count = count + 1\n",
    "                else:\n",
    "                    break\n",
    "\n",
    "        \n",
    "        \n",
    "        subsetTrain = subsetTrain[0:count]\n",
    "        subsetTrain = np.array([np.unique(subsetTrain)]).T\n",
    "        temp = np.concatenate([subsetTrain.astype('uint64'),  np.array([distance_vI_vJ[subsetTrain[:,0].astype('uint64'),i]]).T], axis=1) # k1 nn be label(1) + dis(i, currTrainSet) -> [idx dist] -> 152x2\n",
    "        \n",
    "    \n",
    "        minDist = np.min(temp[:,1])\n",
    "        meanDist = np.mean(temp[:,1])\n",
    "        \n",
    "        # 2nd knn pass\n",
    "        temp = temp[temp[:,1].argsort()] # sort by dist -> qaroqaT mishe idx ha\n",
    "        subsetTrain = temp[:,0]\n",
    "        currScores = np.zeros((numOfLabels,1)) # 38x1\n",
    "        labelFreq = np.zeros((numOfLabels,1)) # 38x1\n",
    "        pickNbrs = subsetTrain.shape[0] # 4*38 -> max = 152 -> (<152)\n",
    "        \n",
    "        for j in range(pickNbrs):\n",
    "            trainIndx = int(subsetTrain[j])\n",
    "            currLabels = np.array( np.where(trainAnnotation[trainIndx,:]==1) )[0] # label hayi ke har yek az 152 ta ax tush hastan\n",
    "            dist1 = distance_vI_vJ[trainIndx,i] # dist(har yek az 152, axe test)\n",
    "            distVal = ((dist1-minDist)/(meanDist)) #normilization\n",
    "            val = np.exp(-w*distVal) # w=15\n",
    "            for l in range(len(currLabels)):\n",
    "                currScores[currLabels[l]] += val\n",
    "                labelFreq[currLabels[l]] += 1\n",
    "        \n",
    "        currScores = currScores/np.sum(currScores)\n",
    "        Score_w_I_R[:,i] = currScores[:, 0]\n",
    "        \n",
    "    \n",
    "    # Normalize \n",
    "    for i in range(numOfLabels):\n",
    "        maxx = np.max(Score_w_I_R[i,:])\n",
    "        if( maxx>0 ):            \n",
    "            Score_w_I_R[i,:] = Score_w_I_R[i,:]/maxx;\n",
    "    \n",
    "    return Score_w_I_R"
   ]
  },
  {
   "cell_type": "code",
   "execution_count": 8,
   "metadata": {},
   "outputs": [],
   "source": [
    "Score_w_I = twopassknn2(distMatrix_train2test,trainAnnotation,testAnnotation,k,sigma)"
   ]
  },
  {
   "cell_type": "code",
   "execution_count": 78,
   "metadata": {},
   "outputs": [],
   "source": [
    "# Save scores mat\n",
    "reader.savemat('./scores.mat', {'dict': Score_w_I})"
   ]
  },
  {
   "cell_type": "code",
   "execution_count": 11,
   "metadata": {},
   "outputs": [
    {
     "name": "stdout",
     "output_type": "stream",
     "text": [
      "[[0.04035128 0.02647352 0.01875159 ... 0.04324425 0.0154889  0.02592783]\n",
      " [0.2997902  0.1556756  0.11176736 ... 0.20148876 0.04291744 0.41407898]\n",
      " [0.15552348 0.06818446 0.04206506 ... 0.13902142 0.02290399 0.16773473]\n",
      " ...\n",
      " [0.14876734 0.16664018 0.30725657 ... 0.20786943 0.26356012 0.14270241]\n",
      " [0.03808868 0.05981837 0.08140029 ... 0.04588089 0.04307497 0.03471642]\n",
      " [0.15644749 0.20503698 0.16540933 ... 0.11781442 0.25101727 0.11503915]]\n"
     ]
    }
   ],
   "source": [
    "# Maybe you need the copy later! :|\n",
    "temp = np.copy(Score_w_I)\n",
    "print(Score_w_I)"
   ]
  },
  {
   "cell_type": "code",
   "execution_count": 10,
   "metadata": {},
   "outputs": [],
   "source": [
    "def computePerf(testAnnotations,Score,annotLabels):\n",
    "    numOfTestImages = testAnnotations.shape[0]\n",
    "    numOfLabels = testAnnotations.shape[1]\n",
    "    testLabelTableSize = np.zeros((numOfLabels,1))\n",
    "    \n",
    "    testLabelTableSize = np.sum(testAnnotations, axis=0) # har label barash chanta aks darim dar train\n",
    "    \n",
    "    # precision, recall, f1-score, nplus \n",
    "\n",
    "    correct = np.zeros((numOfLabels,1))\n",
    "    predict = np.zeros((numOfLabels,1))\n",
    "    ground = np.zeros((numOfLabels,1))\n",
    "    \n",
    "    for i in range(numOfTestImages):\n",
    "        \n",
    "        actualLabels = np.array( np.where(testAnnotations[i, :]==1) )\n",
    "        currScores1 = Score[:,i]\n",
    "        assignedLabels = np.zeros((1,annotLabels))\n",
    "        for j in range(annotLabels):\n",
    "            val,indx = np.max(currScores1), np.argmax(currScores1)\n",
    "            assignedLabels[0][j] = indx\n",
    "            currScores1[indx] = -np.inf;\n",
    "        \n",
    "        for j in range(assignedLabels.shape[1]):\n",
    "            predict[int(assignedLabels[0][j])] += 1\n",
    "\n",
    "        for j in range(actualLabels.shape[1]):\n",
    "            ground[int(actualLabels[0][j])] += 1\n",
    "            for k in range(assignedLabels.shape[1]):\n",
    "                if( assignedLabels[0][k]==actualLabels[0][j] ):\n",
    "                    correct[int(assignedLabels[0][k])] += 1\n",
    "        print('image test number: ', i)\n",
    "        print('actual labels: ', actualLabels)\n",
    "        print('assign labels: ', assignedLabels)        \n",
    "                        \n",
    "    prec = np.zeros((numOfLabels,1))[:, 0]\n",
    "    rec = np.zeros((numOfLabels,1))[:, 0]\n",
    "    for i in range(numOfLabels):\n",
    "        if predict[i]>0:\n",
    "            prec[i] = (correct[i]/predict[i])[0]\n",
    "        if ground[i]>0:\n",
    "            rec[i] = (correct[i]/ground[i])[0]\n",
    "            \n",
    "    \n",
    "    precision = np.mean(prec)\n",
    "    recall = np.mean(rec)\n",
    "    f1score = 2*precision*recall/(precision+recall)\n",
    "    nplus = np.array( np.where(rec>0) )\n",
    "\n",
    "    print([precision, recall, f1score, nplus.shape[1]])\n",
    "    return [precision, recall, f1score, nplus.shape[1]]\n",
    "\n",
    "    "
   ]
  },
  {
   "cell_type": "code",
   "execution_count": 11,
   "metadata": {},
   "outputs": [
    {
     "name": "stdout",
     "output_type": "stream",
     "text": [
      "[0.5759939356711239, 0.4319436525974756, 0.4936752579594843, 38]\n"
     ]
    }
   ],
   "source": [
    "performance = computePerf(testAnnotation,np.copy(Score_w_I),labels)"
   ]
  },
  {
   "cell_type": "code",
   "execution_count": null,
   "metadata": {},
   "outputs": [],
   "source": []
  }
 ],
 "metadata": {
  "kernelspec": {
   "display_name": "Python 3",
   "language": "python",
   "name": "python3"
  },
  "language_info": {
   "codemirror_mode": {
    "name": "ipython",
    "version": 3
   },
   "file_extension": ".py",
   "mimetype": "text/x-python",
   "name": "python",
   "nbconvert_exporter": "python",
   "pygments_lexer": "ipython3",
   "version": "3.6.8"
  }
 },
 "nbformat": 4,
 "nbformat_minor": 2
}
