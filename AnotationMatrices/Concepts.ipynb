{
 "cells": [
  {
   "cell_type": "code",
   "execution_count": 40,
   "metadata": {},
   "outputs": [],
   "source": [
    "import numpy as np\n",
    "import os\n",
    "from os import listdir\n",
    "from os.path import isfile, join\n",
    "import scipy.io\n",
    "\n",
    "dataset_path = './mirflickr25k_annotations_v080/'\n",
    "files = sorted([f for f in listdir(dataset_path) if isfile(join(dataset_path, f) )])\n",
    "CONCEPT_NUM = 38\n",
    "IMAGES_NUM = 25000\n",
    "\n",
    "def create_concept_array(concept_num, images_num):\n",
    "    concept_test_array = np.zeros((concept_num, images_num//2))\n",
    "    concept_train_array = np.zeros((concept_num, images_num//2))\n",
    "    \n",
    "    for file_index, file in enumerate(files):\n",
    "        lines = [line.rstrip('\\n') for line in open(dataset_path + file)]\n",
    "        \n",
    "        for line in lines:\n",
    "            if (int(line) - 1) % 2 == 0:\n",
    "                concept_train_array[file_index][int((int(line) - 1)/2)] = 1\n",
    "            else:\n",
    "                concept_test_array[file_index][int(((int(line) - 1) - 1)/2) ] = 1\n",
    "\n",
    "    return concept_test_array, concept_train_array\n",
    "\n",
    "concept_test_array, concept_train_array = create_concept_array(CONCEPT_NUM, IMAGES_NUM)\n",
    "scipy.io.savemat('concept_test.mat', {\"data\":concept_test_array})\n",
    "scipy.io.savemat('concept_train.mat', {\"data\":concept_train_array})"
   ]
  }
 ],
 "metadata": {
  "kernelspec": {
   "display_name": "Python 3",
   "language": "python",
   "name": "python3"
  },
  "language_info": {
   "codemirror_mode": {
    "name": "ipython",
    "version": 3
   },
   "file_extension": ".py",
   "mimetype": "text/x-python",
   "name": "python",
   "nbconvert_exporter": "python",
   "pygments_lexer": "ipython3",
   "version": "3.6.4"
  }
 },
 "nbformat": 4,
 "nbformat_minor": 2
}
